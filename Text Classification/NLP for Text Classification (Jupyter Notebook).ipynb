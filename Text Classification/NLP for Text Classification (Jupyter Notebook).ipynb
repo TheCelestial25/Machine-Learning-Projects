{
 "cells": [
  {
   "cell_type": "markdown",
   "metadata": {},
   "source": [
    "## Natural Language Processing for Text Classification with NLTK and Scikit-learn\n",
    "\n",
    "\n",
    "### 1. Import Necessary Libraries\n",
    "\n",
    "To ensure the necessary libraries are installed correctly and up-to-date, print the version numbers for each library.  This will also improve the reproducibility of our project."
   ]
  },
  {
   "cell_type": "code",
   "execution_count": 1,
   "metadata": {},
   "outputs": [
    {
     "name": "stdout",
     "output_type": "stream",
     "text": [
      "Python: 3.7.6 (default, Jan  8 2020, 19:59:22) \n",
      "[GCC 7.3.0]\n",
      "NLTK: 3.4.5\n",
      "Scikit-learn: 0.22.1\n",
      "Pandas: 1.0.3\n",
      "Numpy: 1.18.1\n"
     ]
    }
   ],
   "source": [
    "import sys\n",
    "import nltk\n",
    "import sklearn\n",
    "import pandas\n",
    "import numpy\n",
    "\n",
    "print('Python: {}'.format(sys.version))\n",
    "print('NLTK: {}'.format(nltk.__version__))\n",
    "print('Scikit-learn: {}'.format(sklearn.__version__))\n",
    "print('Pandas: {}'.format(pandas.__version__))\n",
    "print('Numpy: {}'.format(numpy.__version__))"
   ]
  },
  {
   "cell_type": "markdown",
   "metadata": {},
   "source": [
    "### 2. Load the Dataset\n",
    "\n",
    "Now that we have ensured that our libraries are installed correctly, let's load the data set as a Pandas DataFrame. Furthermore, let's extract some useful information such as the column information and class distributions. \n",
    "\n",
    "The data set we will be using comes from the UCI Machine Learning Repository.  It contains over 5000 SMS labeled messages that have been collected for mobile phone spam research. It can be downloaded from the following URL:\n",
    "\n",
    "https://archive.ics.uci.edu/ml/datasets/sms+spam+collection"
   ]
  },
  {
   "cell_type": "code",
   "execution_count": 2,
   "metadata": {},
   "outputs": [],
   "source": [
    "import pandas as pd\n",
    "import numpy as np\n",
    "\n",
    "# load the dataset of SMS messages\n",
    "df = pd.read_table('SMSSpamCollection', header=None, encoding='utf-8')"
   ]
  },
  {
   "cell_type": "code",
   "execution_count": 3,
   "metadata": {},
   "outputs": [
    {
     "name": "stdout",
     "output_type": "stream",
     "text": [
      "<class 'pandas.core.frame.DataFrame'>\n",
      "RangeIndex: 5572 entries, 0 to 5571\n",
      "Data columns (total 2 columns):\n",
      " #   Column  Non-Null Count  Dtype \n",
      "---  ------  --------------  ----- \n",
      " 0   0       5572 non-null   object\n",
      " 1   1       5572 non-null   object\n",
      "dtypes: object(2)\n",
      "memory usage: 87.2+ KB\n",
      "None\n",
      "      0                                                  1\n",
      "0   ham  Go until jurong point, crazy.. Available only ...\n",
      "1   ham                      Ok lar... Joking wif u oni...\n",
      "2  spam  Free entry in 2 a wkly comp to win FA Cup fina...\n",
      "3   ham  U dun say so early hor... U c already then say...\n",
      "4   ham  Nah I don't think he goes to usf, he lives aro...\n"
     ]
    }
   ],
   "source": [
    "# print useful information about the dataset\n",
    "print(df.info())\n",
    "print(df.head())"
   ]
  },
  {
   "cell_type": "code",
   "execution_count": 4,
   "metadata": {},
   "outputs": [
    {
     "name": "stdout",
     "output_type": "stream",
     "text": [
      "ham     4825\n",
      "spam     747\n",
      "Name: 0, dtype: int64\n"
     ]
    }
   ],
   "source": [
    "# check class distribution\n",
    "classes = df[0]\n",
    "print(classes.value_counts())"
   ]
  },
  {
   "cell_type": "markdown",
   "metadata": {},
   "source": [
    "### 2. Preprocess the Data\n",
    "\n",
    "Preprocessing the data is an essential step in natural language process. In the following cells, we will convert our class labels to binary values using the LabelEncoder from sklearn, replace email addresses, URLs, phone numbers, and other symbols by using regular expressions, remove stop words, and extract word stems.  "
   ]
  },
  {
   "cell_type": "code",
   "execution_count": 5,
   "metadata": {},
   "outputs": [
    {
     "name": "stdout",
     "output_type": "stream",
     "text": [
      "[0 0 1 0 0 1 0 0 1 1]\n"
     ]
    }
   ],
   "source": [
    "from sklearn.preprocessing import LabelEncoder\n",
    "\n",
    "# convert class labels to binary values, 0 = ham and 1 = spam\n",
    "encoder = LabelEncoder()\n",
    "Y = encoder.fit_transform(classes)\n",
    "print(Y[:10])"
   ]
  },
  {
   "cell_type": "code",
   "execution_count": 6,
   "metadata": {},
   "outputs": [
    {
     "name": "stdout",
     "output_type": "stream",
     "text": [
      "0    Go until jurong point, crazy.. Available only ...\n",
      "1                        Ok lar... Joking wif u oni...\n",
      "2    Free entry in 2 a wkly comp to win FA Cup fina...\n",
      "3    U dun say so early hor... U c already then say...\n",
      "4    Nah I don't think he goes to usf, he lives aro...\n",
      "5    FreeMsg Hey there darling it's been 3 week's n...\n",
      "6    Even my brother is not like to speak with me. ...\n",
      "7    As per your request 'Melle Melle (Oru Minnamin...\n",
      "8    WINNER!! As a valued network customer you have...\n",
      "9    Had your mobile 11 months or more? U R entitle...\n",
      "Name: 1, dtype: object\n"
     ]
    }
   ],
   "source": [
    "# store the SMS message data\n",
    "text_messages = df[1]\n",
    "print(text_messages[:10])"
   ]
  },
  {
   "cell_type": "markdown",
   "metadata": {},
   "source": [
    "#### 2.1 Regular Expressions\n",
    "\n",
    "Some common regular expression metacharacters - copied from wikipedia\n",
    "\n",
    "**^**     Matches the starting position within the string. In line-based tools, it matches the starting position of any line.\n",
    "\n",
    "**.**     Matches any single character (many applications exclude newlines, and exactly which characters are considered newlines is flavor-, character-encoding-, and platform-specific, but it is safe to assume that the line feed character is included). Within POSIX bracket expressions, the dot character matches a literal dot. For example, a.c matches \"abc\", etc., but [a.c] matches only \"a\", \".\", or \"c\".\n",
    "\n",
    "**[ ]**    A bracket expression. Matches a single character that is contained within the brackets. For example, [abc] matches \"a\", \"b\", or \"c\". [a-z] specifies a range which matches any lowercase letter from \"a\" to \"z\". These forms can be mixed: [abcx-z] matches \"a\", \"b\", \"c\", \"x\", \"y\", or \"z\", as does [a-cx-z].\n",
    "The - character is treated as a literal character if it is the last or the first (after the ^, if present) character within the brackets: [abc-], [-abc]. Note that backslash escapes are not allowed. The ] character can be included in a bracket expression if it is the first (after the ^) character: []abc].\n",
    "\n",
    "**[^ ]**   Matches a single character that is not contained within the brackets. For example, [^abc] matches any character other than \"a\", \"b\", or \"c\". [^a-z] matches any single character that is not a lowercase letter from \"a\" to \"z\". Likewise, literal characters and ranges can be mixed.\n",
    "\n",
    "**$**      Matches the ending position of the string or the position just before a string-ending newline. In line-based tools, it matches the ending position of any line.\n",
    "\n",
    "**( )**    Defines a marked subexpression. The string matched within the parentheses can be recalled later (see the next entry, \\n). A marked subexpression is also called a block or capturing group. BRE mode requires \\( \\).\n",
    "\n",
    "**\\n**     Matches what the nth marked subexpression matched, where n is a digit from 1 to 9. This construct is vaguely defined in the POSIX.2 standard. Some tools allow referencing more than nine capturing groups.\n",
    "\n",
    "**\\***     Matches the preceding element zero or more times. For example, ab*c matches \"ac\", \"abc\", \"abbbc\", etc. [xyz]* matches \"\", \"x\", \"y\", \"z\", \"zx\", \"zyx\", \"xyzzy\", and so on. (ab)* matches \"\", \"ab\", \"abab\", \"ababab\", and so on.\n",
    "\n",
    "**{m,n}**  Matches the preceding element at least m and not more than n times. For example, a{3,5} matches only \"aaa\", \"aaaa\", and \"aaaaa\". This is not found in a few older instances of regexes. BRE mode requires \\{m,n\\}."
   ]
  },
  {
   "cell_type": "code",
   "execution_count": 7,
   "metadata": {},
   "outputs": [],
   "source": [
    "# use regular expressions to replace email addresses, URLs, phone numbers, other numbers\n",
    "\n",
    "# Replace email addresses with 'email'\n",
    "processed = text_messages.str.replace(r'^.+@[^\\.].*\\.[a-z]{2,}$',\n",
    "                                 'emailaddress')\n",
    "\n",
    "# Replace URLs with 'webaddress'\n",
    "processed = processed.str.replace(r'^http\\://[a-zA-Z0-9\\-\\.]+\\.[a-zA-Z]{2,3}(/\\S*)?$',\n",
    "                                  'webaddress')\n",
    "\n",
    "# Replace money symbols with 'moneysymb' (£ can by typed with ALT key + 156)\n",
    "processed = processed.str.replace(r'£|\\$', 'moneysymb')\n",
    "    \n",
    "# Replace 10 digit phone numbers (formats include paranthesis, spaces, no spaces, dashes) with 'phonenumber'\n",
    "processed = processed.str.replace(r'^\\(?[\\d]{3}\\)?[\\s-]?[\\d]{3}[\\s-]?[\\d]{4}$',\n",
    "                                  'phonenumbr')\n",
    "    \n",
    "# Replace numbers with 'numbr'\n",
    "processed = processed.str.replace(r'\\d+(\\.\\d+)?', 'numbr')"
   ]
  },
  {
   "cell_type": "code",
   "execution_count": 8,
   "metadata": {},
   "outputs": [],
   "source": [
    "# Remove punctuation\n",
    "processed = processed.str.replace(r'[^\\w\\d\\s]', ' ')\n",
    "\n",
    "# Replace whitespace between terms with a single space\n",
    "processed = processed.str.replace(r'\\s+', ' ')\n",
    "\n",
    "# Remove leading and trailing whitespace\n",
    "processed = processed.str.replace(r'^\\s+|\\s+?$', '')"
   ]
  },
  {
   "cell_type": "code",
   "execution_count": 9,
   "metadata": {},
   "outputs": [
    {
     "name": "stdout",
     "output_type": "stream",
     "text": [
      "0       go until jurong point crazy available only in ...\n",
      "1                                 ok lar joking wif u oni\n",
      "2       free entry in numbr a wkly comp to win fa cup ...\n",
      "3             u dun say so early hor u c already then say\n",
      "4       nah i don t think he goes to usf he lives arou...\n",
      "                              ...                        \n",
      "5567    this is the numbrnd time we have tried numbr c...\n",
      "5568                  will ü b going to esplanade fr home\n",
      "5569    pity was in mood for that so any other suggest...\n",
      "5570    the guy did some bitching but i acted like i d...\n",
      "5571                            rofl its true to its name\n",
      "Name: 1, Length: 5572, dtype: object\n"
     ]
    }
   ],
   "source": [
    "# change words to lower case - Hello, HELLO, hello are all the same word\n",
    "processed = processed.str.lower()\n",
    "print(processed)"
   ]
  },
  {
   "cell_type": "code",
   "execution_count": 10,
   "metadata": {},
   "outputs": [],
   "source": [
    "from nltk.corpus import stopwords\n",
    "\n",
    "# remove stop words from text messages\n",
    "\n",
    "stop_words = set(stopwords.words('english'))\n",
    "\n",
    "processed = processed.apply(lambda x: ' '.join(\n",
    "    term for term in x.split() if term not in stop_words))"
   ]
  },
  {
   "cell_type": "code",
   "execution_count": 11,
   "metadata": {},
   "outputs": [
    {
     "name": "stdout",
     "output_type": "stream",
     "text": [
      "0       go jurong point crazi avail bugi n great world...\n",
      "1                                   ok lar joke wif u oni\n",
      "2       free entri numbr wkli comp win fa cup final tk...\n",
      "3                     u dun say earli hor u c alreadi say\n",
      "4                    nah think goe usf live around though\n",
      "                              ...                        \n",
      "5567    numbrnd time tri numbr contact u u moneysymbnu...\n",
      "5568                              ü b go esplanad fr home\n",
      "5569                                    piti mood suggest\n",
      "5570    guy bitch act like interest buy someth els nex...\n",
      "5571                                       rofl true name\n",
      "Name: 1, Length: 5572, dtype: object\n"
     ]
    }
   ],
   "source": [
    "# Remove word stems using a Porter stemmer\n",
    "ps = nltk.PorterStemmer()\n",
    "\n",
    "processed = processed.apply(lambda x: ' '.join(\n",
    "    ps.stem(term) for term in x.split()))\n",
    "print(processed)"
   ]
  },
  {
   "cell_type": "markdown",
   "metadata": {},
   "source": [
    "### 3. Generating Features\n",
    "\n",
    "Feature engineering is the process of using domain knowledge of the data to create features for machine learning algorithms. In this project, the words in each text message will be our features.  For this purpose, it will be necessary to tokenize each word.  We will use the 1500 most common words as features."
   ]
  },
  {
   "cell_type": "code",
   "execution_count": 12,
   "metadata": {},
   "outputs": [],
   "source": [
    "from nltk.tokenize import word_tokenize\n",
    "\n",
    "# create bag-of-words\n",
    "all_words = []\n",
    "\n",
    "for message in processed:\n",
    "    words = word_tokenize(message)\n",
    "    for w in words:\n",
    "        all_words.append(w)\n",
    "        \n",
    "all_words = nltk.FreqDist(all_words)"
   ]
  },
  {
   "cell_type": "code",
   "execution_count": 13,
   "metadata": {
    "scrolled": true
   },
   "outputs": [
    {
     "name": "stdout",
     "output_type": "stream",
     "text": [
      "Number of words: 6579\n",
      "Most common words: [('numbr', 2648), ('u', 1207), ('call', 674), ('go', 456), ('get', 451), ('ur', 391), ('gt', 318), ('lt', 316), ('come', 304), ('moneysymbnumbr', 303), ('ok', 293), ('free', 284), ('day', 276), ('know', 275), ('love', 266)]\n"
     ]
    }
   ],
   "source": [
    "# print the total number of words and the 15 most common words\n",
    "print('Number of words: {}'.format(len(all_words)))\n",
    "print('Most common words: {}'.format(all_words.most_common(15)))"
   ]
  },
  {
   "cell_type": "code",
   "execution_count": 14,
   "metadata": {},
   "outputs": [
    {
     "name": "stdout",
     "output_type": "stream",
     "text": [
      "['numbr', 'u', 'call', 'go', 'get', 'ur', 'gt', 'lt', 'come', 'moneysymbnumbr', 'ok', 'free', 'day', 'know', 'love', 'like', 'got', 'time', 'good', 'want', 'text', 'send', 'txt', 'need', 'one', 'today', 'take', 'ü', 'see', 'stop', 'home', 'think', 'repli', 'r', 'lor', 'sorri', 'still', 'tell', 'n', 'numbrp', 'back', 'mobil', 'da', 'dont', 'make', 'k', 'week', 'pleas', 'phone', 'say', 'hi', 'work', 'new', 'pl', 'later', 'hope', 'miss', 'ask', 'co', 'meet', 'msg', 'messag', 'night', 'dear', 'c', 'wait', 'happi', 'well', 'tri', 'give', 'great', 'much', 'thing', 'claim', 'oh', 'min', 'wat', 'hey', 'number', 'na', 'friend', 'thank', 'ye', 'way', 'www', 'let', 'e', 'prize', 'feel', 'even', 'right', 'tomorrow', 'wan', 'alreadi', 'pick', 'cash', 'said', 'care', 'b', 'amp', 'yeah', 'im', 'leav', 'realli', 'tone', 'babe', 'win', 'life', 'morn', 'find', 'last', 'sleep', 'servic', 'keep', 'sure', 'use', 'anyth', 'uk', 'buy', 'would', 'year', 'start', 'contact', 'lol', 'also', 'urgent', 'nokia', 'wish', 'look', 'everi', 'smile', 'sent', 'watch', 'someth', 'show', 'com', 'end', 'finish', 'us', 'award', 'gud', 'place', 'cant', 'first', 'special', 'someon', 'person', 'guy', 'custom', 'tonight', 'next', 'nice', 'went', 'around', 'word', 'soon', 'talk', 'help', 'late', 'chat', 'could', 'money', 'collect', 'gon', 'mani', 'per', 'alway', 'plan', 'ya', 'live', 'x', 'sm', 'check', 'lot', 'minut', 'dun', 'name', 'v', 'shop', 'told', 'hello', 'mean', 'may', 'fine', 'girl', 'heart', 'hour', 'reach', 'peopl', 'guarante', 'haha', 'done', 'offer', 'yet', 'happen', 'thk', 'month', 'thought', 'god', 'best', 'play', 'class', 'holiday', 'line', 'fuck', 'receiv', 'stuff', 'lunch', 'car', 'man', 'bit', 'eat', 'mayb', 'never', 'job', 'draw', 'hous', 'ill', 'enjoy', 'worri', 'cs', 'problem', 'yup', 'that', 'cool', 'better', 'account', 'readi', 'mind', 'rate', 'date', 'wk', 'long', 'drive', 'guess', 'dat', 'numbrst', 'chanc', 'cost', 'pay', 'rington', 'weekend', 'boy', 'world', 'latest', 'wonder', 'numbrppm', 'luv', 'game', 'quit', 'room', 'half', 'real', 'yo', 'sir', 'book', 'bring', 'lar', 'camera', 'sweet', 'box', 'noth', 'voucher', 'pic', 'charg', 'anoth', 'join', 'bt', 'liao', 'big', 'shit', 'question', 'select', 'dinner', 'ah', 'po', 'birthday', 'landlin', 'stay', 'kiss', 'put', 'xxx', 'speak', 'rememb', 'ju', 'g', 'video', 'might', 'ever', 'appli', 'wont', 'numbrth', 'anyway', 'actual', 'point', 'final', 'earli', 'network', 'run', 'di', 'hear', 'pa', 'hurt', 'chang', 'aight', 'dream', 'tv', 'babi', 'two', 'orang', 'probabl', 'fun', 'left', 'numbrpm', 'part', 'bed', 'forgot', 'answer', 'thanx', 'shall', 'sat', 'offic', 'den', 'bad', 'princess', 'code', 'pain', 'easi', 'walk', 'wake', 'made', 'dunno', 'numbrnd', 'frnd', 'mail', 'littl', 'leh', 'sound', 'face', 'everyth', 'didnt', 'wife', 'dad', 'enough', 'bu', 'afternoon', 'movi', 'school', 'true', 'detail', 'bore', 'town', 'mate', 'pound', 'numbrhr', 'without', 'tmr', 'lose', 'read', 'post', 'gift', 'await', 'wif', 'though', 'credit', 'decid', 'sinc', 'came', 'okay', 'test', 'must', 'sexi', 'xma', 'import', 'poli', 'entri', 'goe', 'set', 'colour', 'lesson', 'mob', 'close', 'abt', 'price', 'til', 'smoke', 'abl', 'hav', 'wot', 'drink', 'updat', 'wen', 'juz', 'enter', 'bath', 'decim', 'music', 'plz', 'de', 'away', 'plu', 'valid', 'alright', 'till', 'saw', 'yesterday', 'doubl', 'hair', 'havent', 'els', 'busi', 'top', 'hand', 'order', 'weekli', 'dude', 'beauti', 'drop', 'net', 'invit', 'trip', 'food', 'coz', 'id', 'oso', 'head', 'friendship', 'attempt', 'onlin', 'lei', 'search', 'nation', 'ard', 'deliveri', 'address', 'inform', 'player', 'yr', 'open', 'nite', 'hold', 'ring', 'hot', 'haf', 'either', 'sch', 'famili', 'goin', 'brother', 'http', 'mom', 'second', 'bonu', 'caus', 'nt', 'complet', 'believ', 'si', 'touch', 'stori', 'wid', 'full', 'tot', 'sae', 'togeth', 'sad', 'forget', 'old', 'match', 'studi', 'noe', 'club', 'oki', 'row', 'chikku', 'reason', 'huh', 'eve', 'land', 'listen', 'mum', 'train', 'email', 'murder', 'treat', 'news', 'aft', 'fri', 'tomo', 'congrat', 'took', 'ta', 'privat', 'expir', 'dog', 'age', 'everyon', 'parent', 'content', 'grnumbr', 'awesom', 'break', 'die', 'wil', 'park', 'unsubscrib', 'pm', 'simpl', 'pub', 'rite', 'anyon', 'avail', 'caller', 'valu', 'tho', 'move', 'xx', 'download', 'prob', 'statement', 'fanci', 'tc', 'compani', 'reveal', 'angri', 'choos', 'sort', 'card', 'sister', 'valentin', 'current', 'gd', 'opt', 'bnumbr', 'mine', 'neva', 'laugh', 'sell', 'auction', 'joke', 'numbram', 'seem', 'pass', 'lucki', 'ticket', 'type', 'what', 'bank', 'carlo', 'worth', 'found', 'colleg', 'w', 'forward', 'visit', 'whatev', 'knw', 'gal', 'understand', 'alon', 'winner', 'pobox', 'ha', 'smth', 'saturday', 'usual', 'song', 'save', 'oper', 'gone', 'hit', 'friday', 'uncl', 'identifi', 'ninumbr', 'ltd', 'hard', 'log', 'boytoy', 'bill', 'exam', 'secret', 'congratul', 'anytim', 'boxnumbr', 'far', 'fone', 'return', 'mobileupdnumbr', 'bout', 'welcom', 'kind', 'outsid', 'fast', 'sun', 'sit', 'parti', 'surpris', 'how', 'crazi', 'info', 'confirm', 'camcord', 'cut', 'follow', 'rain', 'mu', 'quiz', 'wit', 'mrng', 'darlin', 'rs', 'goodmorn', 'oredi', 'case', 'tel', 'mnumbr', 'light', 'interest', 'suitenumbr', 'numbrland', 'project', 'th', 'differ', 'remov', 'cum', 'nope', 'pretti', 'sea', 'clean', 'drug', 'poboxnumbr', 'wrong', 'nyt', 'chennai', 'tht', 'wkli', 'freemsg', 'numbrday', 'sunday', 'hungri', 'whole', 'correct', 'comput', 'hmm', 'tire', 'spend', 'f', 'cours', 'ga', 'meant', 'fr', 'fix', 'cd', 'unlimit', 'blue', 'numbrmth', 'jay', 'rock', 'ad', 'ten', 'suppos', 'scream', 'term', 'frm', 'savamob', 'sub', 'kid', 'snow', 'least', 'earlier', 'support', 'press', 'reward', 'promis', 'turn', 'catch', 'almost', 'etc', 'hee', 'load', 'shower', 'mah', 'felt', 'pray', 'wine', 'joy', 'hmmm', 'mr', 'balanc', 'march', 'side', 'dnt', 'singl', 'stupid', 'bslvyl', 'normal', 'lost', 'christma', 'figur', 'ago', 'moment', 'st', 'motorola', 'coupl', 'ass', 'india', 'fight', 'within', 'un', 'redeem', 'marri', 'yar', 'area', 'paper', 'sex', 'eye', 'store', 'knew', 'gn', 'film', 'luck', 'john', 'fren', 'father', 'comp', 'eh', 'cheer', 'crave', 'hospit', 'wow', 'ac', 'red', 'complimentari', 'stand', 'askd', 'direct', 'activ', 'sometim', 'safe', 'deal', 'connect', 'semest', 'bcoz', 'teach', 'laptop', 'disturb', 'swing', 'ge', 'numbru', 'via', 'met', 'callnumbroptout', 'seen', 'slow', 'rental', 'doin', 'rent', 'ipod', 'ladi', 'remind', 'gym', 'darren', 'an', 'ugh', 'extra', 'photo', 'heard', 'fill', 'grin', 'difficult', 'hr', 'std', 'usf', 'request', 'copi', 'wap', 'link', 'eg', 'comin', 'abiola', 'rpli', 'includ', 'loan', 'page', 'txting', 'lovabl', 'muz', 'orchard', 'kate', 'regist', 'road', 'expect', 'lover', 'wana', 'somebodi', 'rest', 'pete', 'small', 'weed', 'ex', 'hg', 'wnumbrjnumbrhl', 'discount', 'share', 'yep', 'monday', 'silent', 'member', 'blood', 'warm', 'door', 'noon', 'idea', 'possibl', 'fall', 'whenev', 'asap', 'truth', 'convey', 'p', 'cancel', 'nobodi', 'fantasi', 'fact', 'slowli', 'polic', 'nah', 'callertun', 'bless', 'england', 'sick', 'oop', 'numbrw', 'situat', 'forev', 'short', 'recent', 'il', 'repres', 'gave', 'men', 'apart', 'quot', 'del', 'soni', 'wast', 'trust', 'sign', 'street', 'kick', 'admir', 'deep', 'hmv', 'tonit', 'somewher', 'merri', 'record', 'immedi', 'access', 'custcar', 'rakhesh', 'woke', 'mistak', 'mm', 'voic', 'ldn', 'style', 'water', 'near', 'opinion', 'less', 'children', 'across', 'agenumbr', 'cheap', 'em', 'indian', 'ts', 'ho', 'king', 'gap', 'fantast', 'glad', 'summer', 'getz', 'bag', 'gettin', 'wed', 'poor', 'otherwis', 'ntt', 'sale', 'regard', 'doctor', 'energi', 'numbrnit', 'write', 'cover', 'numbri', 'hw', 'excus', 'cook', 'med', 'empti', 'cup', 'serious', 'mark', 'ice', 'password', 'coffe', 'boss', 'flight', 'app', 'sunshin', 'lazi', 'lect', 'becom', 'doesnt', 'lift', 'especi', 'dead', 'mrt', 'ive', 'appreci', 'flirt', 'goodnight', 'ldew', 'definit', 'unless', 'teas', 'rose', 'sport', 'accept', 'power', 'cake', 'round', 'urself', 'basic', 'bluetooth', 'refer', 'al', 'none', 'kinda', 'result', 'numbrt', 'depend', 'meh', 'self', 'hotel', 'hurri', 'xy', 'add', 'subscrib', 'bid', 'comuk', 'chariti', 'tampa', 'user', 'mid', 'greet', 'gay', 'iam', 'mo', 'wear', 'hiya', 'digit', 'deliv', 'mon', 'mode', 'other', 'bb', 'moral', 'total', 'natur', 'arriv', 'excel', 'list', 'thinkin', 'flag', 'colleagu', 'sofa', 'tear', 'entitl', 'anymor', 'team', 'pizza', 'egg', 'clear', 'quick', 'learn', 'roommat', 'letter', 'nigeria', 'cinema', 'bxnumbr', 'ipnumbr', 'spent', 'pleasur', 'troubl', 'ave', 'umma', 'weight', 'inc', 'bother', 'bak', 'dvd', 'sp', 'swt', 'shirt', 'goto', 'moneysymb', 'experi', 'freephon', 'howev', 'settl', 'success', 'slept', 'file', 'tnc', 'numbrmin', 'lemm', 'celebr', 'sens', 'imagin', 'rcvd', 'wiv', 'practic', 'fault', 'pictur', 'facebook', 'fullonsm', 'logo', 'yahoo', 'aha', 'funni', 'respond', 'din', 'thru', 'reali', 'fat', 'finger', 'workin', 'daddi', 'present', 'ar', 'futur', 'alex', 'offici', 'longer', 'pc', 'tuesday', 'bedroom', 'student', 'librari', 'space', 'slave', 'omg', 'nonumbr', 'moon', 'travel', 'medic', 'numbrg', 'miracl', 'j', 'process', 'black', 'cute', 'honey', 'vl', 'south', 'respons', 'insid', 'wednesday', 'manag', 'pix', 'mood', 'issu', 'bugi', 'la', 'cine', 'darl', 'cri', 'click', 'naughti', 'suck', 'tea', 'pack', 'ahead', 'kept', 'weak', 'realiz', 'kill', 'wun', 'respect', 'locat', 'cuz', 'lie', 'eatin', 'countri', 'arrang', 'excit', 'internet', 'menu', 'hop', 'discuss', 'hell', 'toward', 'buck', 'past', 'system', 'biz', 'numbrgbp', 'batteri', 'kalli', 'cal', 'ship', 'horni', 'nake', 'qualiti', 'sim', 'loyalti', 'high', 'key', 'advanc', 'kb', 'yoga', 'insur', 'maxim', 'cold', 'sigh', 'relax', 'irrit', 'lac', 'dollar', 'tough', 'transfer', 'notic', 'tenerif', 'sec', 'condit', 'somenumbr', 'charact', 'tat', 'mpnumbr', 'unsub', 'lnumbrr', 'malaria', 'lead', 'rather', 'omw', 'gee', 'bare', 'marriag', 'izzit', 'spree', 'announc', 'imma', 'shuhui', 'weather', 'paid', 'pop', 'login', 'fetch', 'awak', 'torch', 'bold', 'dey', 'holla', 'yest', 'damn', 'sing', 'model', 'mother', 'matter', 'hai', 'bird', 'midnight', 'januari', 'piss', 'sknumbrxh', 'score', 'heavi', 'nxt', 'flower', 'numbryr', 'receipt', 'onumbr', 'onto', 'station', 'tuition', 'strong', 'doc', 'cell', 'alrit', 'shd', 'croydon', 'crnumbr', 'numbrwb', 'lmao', 'vomit', 'except', 'prefer', 'instead', 'buzz', 'titl', 'sight', 'remain', 'mth', 'thnk', 'costa', 'sol', 'role', 'vikki', 'wors', 'sky', 'maid', 'behind', 'feb', 'ignor', 'hug', 'tm', 'mell', 'hl', 'stock', 'subscript', 'inch', 'tyler', 'fyi', 'review', 'coin', 'kano', 'simpli', 'verifi', 'hol', 'consid', 'directli', 'standard', 'q', 'local', 'begin', 'qatar', 'delet', 'spoke', 'bye', 'straight', 'partner', 'career', 'star', 'argument', 'websit', 'childish', 'handset', 'dint', 'sunni', 'anybodi', 'throw', 'hang', 'track', 'report', 'surf', 'yiju', 'num', 'ish', 'cc', 'air', 'cuddl', 'will', 'bodi', 'guid', 'pilat', 'numbrish', 'competit', 'aathi', 'wnt', 'vri', 'vari', 'askin', 'group', 'ttyl', 'isnt', 'decis', 'moan', 'fb', 'matur', 'jst', 'numbrgb', 'pin', 'adult', 'campu', 'confid', 'aiyo', 'daili', 'suit', 'vodafon', 'holder', 'earth', 'evng', 'envelop', 'prepar', 'numbrd', 'law', 'wer', 'aftr', 'exactli', 'yay', 'txtauction', 'wnumbrwq', 'normnumbrp', 'boo', 'hunni', 'numbra', 'zed', 'green', 'skype', 'five', 'version', 'sup', 'attend', 'ate', 'wherev', 'expens', 'brand', 'contract', 'kerala', 'asleep', 'loverboy', 'fool', 'seriou', 'april', 'bitch', 'sipix', 'aiyah', 'urawinn', 'howz', 'choic', 'arm', 'tour', 'super', 'girlfrnd', 'cafe', 'vote', 'bought', 'freak', 'london', 'lookin', 'hook', 'arcad', 'creat', 'beer', 'hate', 'toclaim', 'stockport', 'costmoneysymbnumbr', 'maxnumbrmin', 'relat', 'theatr', 'ahmad', 'armand', 'nimya', 'sed', 'pussi', 'solv', 'budget', 'random', 'er', 'plenti', 'amaz', 'cancer', 'bro', 'tariff', 'tick', 'tb', 'spell', 'wet', 'goal', 'convinc', 'burn', 'ride', 'embarass', 'plane', 'urgnt', 'appoint', 'boston', 'truli', 'scare', 'knumbr', 'tt', 'cabin', 'voda', 'predict', 'laid', 'ecnumbra', 'interview', 'avoid', 'satisfi', 'suggest', 'transact', 'can', 'not', 'sen', 'atm', 'romant', 'numbroptout', 'cross', 'sam', 'print', 'argu', 'bcum', 'affect', 'h', 'ray', 'bf', 'meal', 'themob', 'enemi', 'pongal', 'decemb', 'cud', 'ppl', 'allah', 'breath', 'sonyericsson', 'geeee', 'bar', 'lick', 'intro', 'yan', 'jiu', 'l', 'poboxnumbrwnumbrwq', 'hostel', 'express', 'hv', 'amt', 'concentr', 'acc', 'woman', 'flat', 'villag', 'spl', 'stylish', 'prabha', 'passion', 'english', 'btw', 'numbrmrw', 'jazz', 'yogasana', 'numbrxnumbrp', 'exhaust', 'somethin', 'euronumbr', 'aunti', 'thursday', 'cartoon', 'gentl', 'hella', 'belli', 'peac', 'lone', 'build', 'purchas', 'harri', 'alert', 'stress', 'assum', 'mad', 'twice', 'opportun', 'clock', 'act', 'citi', 'meetin', 'ti', 'polyphon', 'piec', 'xxxx', 'sura', 'sn', 'numbrk', 'unsold', 'fail', 'due', 'derek', 'white', 'cheaper', 'ym', 'diet', 'wnumbr', 'bowl', 'site', 'salari', 'videophon', 'videochat', 'java', 'dload', 'nolin', 'rentl', 'yun']\n"
     ]
    }
   ],
   "source": [
    "# use the 1500 most common words as features\n",
    "word_features = [i[0] for i in all_words.most_common(1500)]\n",
    "print(word_features)"
   ]
  },
  {
   "cell_type": "code",
   "execution_count": 15,
   "metadata": {},
   "outputs": [
    {
     "name": "stdout",
     "output_type": "stream",
     "text": [
      "go jurong point crazi avail bugi n great world la e buffet cine got amor wat\n",
      "go\n",
      "got\n",
      "n\n",
      "great\n",
      "wat\n",
      "e\n",
      "world\n",
      "point\n",
      "avail\n",
      "crazi\n",
      "bugi\n",
      "la\n",
      "cine\n"
     ]
    }
   ],
   "source": [
    "# The find_features function will determine which of the 1500 word features are contained in the review\n",
    "def find_features(message):\n",
    "    words = word_tokenize(message)\n",
    "    features = {}\n",
    "    for word in word_features:\n",
    "        features[word] = (word in words)\n",
    "\n",
    "    return features\n",
    "\n",
    "# Lets see an example!\n",
    "features = find_features(processed[0])\n",
    "print(processed[0])\n",
    "for key, value in features.items():\n",
    "    if value == True:\n",
    "        print(key)"
   ]
  },
  {
   "cell_type": "code",
   "execution_count": 16,
   "metadata": {},
   "outputs": [],
   "source": [
    "# Now lets do it for all the messages\n",
    "messages = list(zip(processed, Y))\n",
    "\n",
    "# define a seed for reproducibility\n",
    "seed = 1\n",
    "np.random.seed = seed\n",
    "np.random.shuffle(messages)\n",
    "\n",
    "# call find_features function for each SMS message\n",
    "featuresets = [(find_features(text), label) for (text, label) in messages]"
   ]
  },
  {
   "cell_type": "code",
   "execution_count": 17,
   "metadata": {},
   "outputs": [],
   "source": [
    "# we can split the featuresets into training and testing datasets using sklearn\n",
    "from sklearn import model_selection\n",
    "\n",
    "# split the data into training and testing datasets\n",
    "training, testing = model_selection.train_test_split(featuresets, test_size = 0.25, random_state=seed)"
   ]
  },
  {
   "cell_type": "code",
   "execution_count": 18,
   "metadata": {},
   "outputs": [
    {
     "name": "stdout",
     "output_type": "stream",
     "text": [
      "4179\n",
      "1393\n"
     ]
    }
   ],
   "source": [
    "print(len(training))\n",
    "print(len(testing))"
   ]
  },
  {
   "cell_type": "markdown",
   "metadata": {},
   "source": [
    "### 4. Scikit-Learn Classifiers with NLTK\n",
    "\n",
    "Now that we have our dataset, we can start building algorithms! Let's start with a simple linear support vector classifier, then expand to other algorithms. We'll need to import each algorithm we plan on using from sklearn.  We also need to import some performance metrics, such as accuracy_score and classification_report."
   ]
  },
  {
   "cell_type": "code",
   "execution_count": 19,
   "metadata": {},
   "outputs": [
    {
     "name": "stdout",
     "output_type": "stream",
     "text": [
      "SVC Accuracy: 97.70279971284997\n"
     ]
    }
   ],
   "source": [
    "# We can use sklearn algorithms in NLTK\n",
    "from nltk.classify.scikitlearn import SklearnClassifier\n",
    "from sklearn.svm import SVC\n",
    "\n",
    "model = SklearnClassifier(SVC(kernel = 'linear'))\n",
    "\n",
    "# train the model on the training data\n",
    "model.train(training)\n",
    "\n",
    "# and test on the testing dataset!\n",
    "accuracy = nltk.classify.accuracy(model, testing)*100\n",
    "print(\"SVC Accuracy: {}\".format(accuracy))"
   ]
  },
  {
   "cell_type": "code",
   "execution_count": 20,
   "metadata": {},
   "outputs": [
    {
     "name": "stdout",
     "output_type": "stream",
     "text": [
      "K Nearest Neighbors Accuracy: 92.82124910265614\n",
      "Decision Tree Accuracy: 96.55419956927494\n",
      "Random Forest Accuracy: 97.48743718592965\n",
      "Logistic Regression Accuracy: 97.63101220387652\n",
      "SGD Classifier Accuracy: 97.91816223977028\n",
      "Naive Bayes Accuracy: 97.48743718592965\n",
      "SVM Linear Accuracy: 97.70279971284997\n"
     ]
    }
   ],
   "source": [
    "from sklearn.neighbors import KNeighborsClassifier\n",
    "from sklearn.tree import DecisionTreeClassifier\n",
    "from sklearn.ensemble import RandomForestClassifier\n",
    "from sklearn.linear_model import LogisticRegression, SGDClassifier\n",
    "from sklearn.naive_bayes import MultinomialNB\n",
    "from sklearn.svm import SVC\n",
    "from sklearn.metrics import classification_report, accuracy_score, confusion_matrix\n",
    "\n",
    "# Define models to train\n",
    "names = [\"K Nearest Neighbors\", \"Decision Tree\", \"Random Forest\", \"Logistic Regression\", \"SGD Classifier\",\n",
    "         \"Naive Bayes\", \"SVM Linear\"]\n",
    "\n",
    "classifiers = [\n",
    "    KNeighborsClassifier(),\n",
    "    DecisionTreeClassifier(),\n",
    "    RandomForestClassifier(),\n",
    "    LogisticRegression(),\n",
    "    SGDClassifier(max_iter = 100),\n",
    "    MultinomialNB(),\n",
    "    SVC(kernel = 'linear')\n",
    "]\n",
    "\n",
    "models = zip(names, classifiers)\n",
    "\n",
    "for name, model in models:\n",
    "    nltk_model = SklearnClassifier(model)\n",
    "    nltk_model.train(training)\n",
    "    accuracy = nltk.classify.accuracy(nltk_model, testing)*100\n",
    "    print(\"{} Accuracy: {}\".format(name, accuracy))"
   ]
  },
  {
   "cell_type": "code",
   "execution_count": 21,
   "metadata": {},
   "outputs": [
    {
     "name": "stdout",
     "output_type": "stream",
     "text": [
      "Voting Classifier: Accuracy: 97.70279971284997\n"
     ]
    }
   ],
   "source": [
    "# Ensemble methods - Voting classifier\n",
    "from sklearn.ensemble import VotingClassifier\n",
    "\n",
    "names = [\"K Nearest Neighbors\", \"Decision Tree\", \"Random Forest\", \"Logistic Regression\", \"SGD Classifier\",\n",
    "         \"Naive Bayes\", \"SVM Linear\"]\n",
    "\n",
    "classifiers = [\n",
    "    KNeighborsClassifier(),\n",
    "    DecisionTreeClassifier(),\n",
    "    RandomForestClassifier(),\n",
    "    LogisticRegression(),\n",
    "    SGDClassifier(max_iter = 100),\n",
    "    MultinomialNB(),\n",
    "    SVC(kernel = 'linear')\n",
    "]\n",
    "\n",
    "models = list(zip(names, classifiers))\n",
    "\n",
    "nltk_ensemble = SklearnClassifier(VotingClassifier(estimators = models, voting = 'hard', n_jobs = -1))\n",
    "nltk_ensemble.train(training)\n",
    "accuracy = nltk.classify.accuracy(nltk_model, testing)*100\n",
    "print(\"Voting Classifier: Accuracy: {}\".format(accuracy))"
   ]
  },
  {
   "cell_type": "code",
   "execution_count": 22,
   "metadata": {},
   "outputs": [],
   "source": [
    "# make class label prediction for testing set\n",
    "txt_features, labels = zip(*testing)\n",
    "\n",
    "prediction = nltk_ensemble.classify_many(txt_features)"
   ]
  },
  {
   "cell_type": "code",
   "execution_count": 23,
   "metadata": {},
   "outputs": [
    {
     "name": "stdout",
     "output_type": "stream",
     "text": [
      "              precision    recall  f1-score   support\n",
      "\n",
      "           0       0.97      1.00      0.99      1192\n",
      "           1       1.00      0.84      0.91       201\n",
      "\n",
      "    accuracy                           0.98      1393\n",
      "   macro avg       0.99      0.92      0.95      1393\n",
      "weighted avg       0.98      0.98      0.98      1393\n",
      "\n"
     ]
    },
    {
     "data": {
      "text/html": [
       "<div>\n",
       "<style scoped>\n",
       "    .dataframe tbody tr th:only-of-type {\n",
       "        vertical-align: middle;\n",
       "    }\n",
       "\n",
       "    .dataframe tbody tr th {\n",
       "        vertical-align: top;\n",
       "    }\n",
       "\n",
       "    .dataframe thead tr th {\n",
       "        text-align: left;\n",
       "    }\n",
       "</style>\n",
       "<table border=\"1\" class=\"dataframe\">\n",
       "  <thead>\n",
       "    <tr>\n",
       "      <th></th>\n",
       "      <th></th>\n",
       "      <th colspan=\"2\" halign=\"left\">predicted</th>\n",
       "    </tr>\n",
       "    <tr>\n",
       "      <th></th>\n",
       "      <th></th>\n",
       "      <th>ham</th>\n",
       "      <th>spam</th>\n",
       "    </tr>\n",
       "  </thead>\n",
       "  <tbody>\n",
       "    <tr>\n",
       "      <th rowspan=\"2\" valign=\"top\">actual</th>\n",
       "      <th>ham</th>\n",
       "      <td>1192</td>\n",
       "      <td>0</td>\n",
       "    </tr>\n",
       "    <tr>\n",
       "      <th>spam</th>\n",
       "      <td>32</td>\n",
       "      <td>169</td>\n",
       "    </tr>\n",
       "  </tbody>\n",
       "</table>\n",
       "</div>"
      ],
      "text/plain": [
       "            predicted     \n",
       "                  ham spam\n",
       "actual ham       1192    0\n",
       "       spam        32  169"
      ]
     },
     "execution_count": 23,
     "metadata": {},
     "output_type": "execute_result"
    }
   ],
   "source": [
    "# print a confusion matrix and a classification report\n",
    "print(classification_report(labels, prediction))\n",
    "\n",
    "pd.DataFrame(\n",
    "    confusion_matrix(labels, prediction),\n",
    "    index = [['actual', 'actual'], ['ham', 'spam']],\n",
    "    columns = [['predicted', 'predicted'], ['ham', 'spam']])"
   ]
  },
  {
   "cell_type": "code",
   "execution_count": null,
   "metadata": {},
   "outputs": [],
   "source": []
  }
 ],
 "metadata": {
  "kernelspec": {
   "display_name": "Python 3",
   "language": "python",
   "name": "python3"
  },
  "language_info": {
   "codemirror_mode": {
    "name": "ipython",
    "version": 3
   },
   "file_extension": ".py",
   "mimetype": "text/x-python",
   "name": "python",
   "nbconvert_exporter": "python",
   "pygments_lexer": "ipython3",
   "version": "3.7.6"
  }
 },
 "nbformat": 4,
 "nbformat_minor": 2
}
